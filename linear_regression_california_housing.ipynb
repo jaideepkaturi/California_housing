{
  "nbformat": 4,
  "nbformat_minor": 0,
  "metadata": {
    "colab": {
      "name": "linear_regression_california_housing.ipynb",
      "version": "0.3.2",
      "provenance": []
    },
    "kernelspec": {
      "name": "python3",
      "display_name": "Python 3"
    }
  },
  "cells": [
    {
      "metadata": {
        "id": "vIb6Sbqja5bh",
        "colab_type": "text"
      },
      "cell_type": "markdown",
      "source": [
        "Regular imports"
      ]
    },
    {
      "metadata": {
        "id": "D8PiAZLUa00F",
        "colab_type": "code",
        "colab": {}
      },
      "cell_type": "code",
      "source": [
        "import numpy as np\n",
        "import matplotlib.pyplot as plt\n",
        "import pandas as pd\n",
        "import seaborn as sns\n",
        "from sklearn.cross_validation import train_test_split\n",
        "from sklearn.linear_model import LinearRegression\n",
        "from sklearn import metrics\n",
        "from sklearn.feature_selection import RFE\n",
        "from sklearn.preprocessing import RobustScaler\n",
        "from sklearn.ensemble import RandomForestRegressor\n",
        "import math"
      ],
      "execution_count": 0,
      "outputs": []
    },
    {
      "metadata": {
        "id": "D4DGhzd4a-mv",
        "colab_type": "text"
      },
      "cell_type": "markdown",
      "source": [
        "Import dataset, import targets, make combined dataset. "
      ]
    },
    {
      "metadata": {
        "id": "wzJj5qf5cQYQ",
        "colab_type": "code",
        "colab": {
          "base_uri": "https://localhost:8080/",
          "height": 297
        },
        "outputId": "7abf6912-3fef-418c-ee4c-0cab5e0e2a94"
      },
      "cell_type": "code",
      "source": [
        "california_housing_dataframe = pd.read_csv(\"https://download.mlcc.google.com/mledu-datasets/california_housing_train.csv\", sep=\",\")\n",
        "california_housing_dataframe = california_housing_dataframe.reindex(\n",
        "    np.random.permutation(california_housing_dataframe.index)) #shuffle data to avoid ordering effects when using gradient descent for minimisation\n",
        "california_housing_dataframe[\"median_house_value\"] /= 1000.0\n",
        "california_housing_dataframe = california_housing_dataframe[california_housing_dataframe['median_house_value'] < 490.0]\n",
        "california_housing_dataframe.describe()"
      ],
      "execution_count": 30,
      "outputs": [
        {
          "output_type": "execute_result",
          "data": {
            "text/html": [
              "<div>\n",
              "<style scoped>\n",
              "    .dataframe tbody tr th:only-of-type {\n",
              "        vertical-align: middle;\n",
              "    }\n",
              "\n",
              "    .dataframe tbody tr th {\n",
              "        vertical-align: top;\n",
              "    }\n",
              "\n",
              "    .dataframe thead th {\n",
              "        text-align: right;\n",
              "    }\n",
              "</style>\n",
              "<table border=\"1\" class=\"dataframe\">\n",
              "  <thead>\n",
              "    <tr style=\"text-align: right;\">\n",
              "      <th></th>\n",
              "      <th>longitude</th>\n",
              "      <th>latitude</th>\n",
              "      <th>housing_median_age</th>\n",
              "      <th>total_rooms</th>\n",
              "      <th>total_bedrooms</th>\n",
              "      <th>population</th>\n",
              "      <th>households</th>\n",
              "      <th>median_income</th>\n",
              "      <th>median_house_value</th>\n",
              "    </tr>\n",
              "  </thead>\n",
              "  <tbody>\n",
              "    <tr>\n",
              "      <th>count</th>\n",
              "      <td>16131.000000</td>\n",
              "      <td>16131.000000</td>\n",
              "      <td>16131.000000</td>\n",
              "      <td>16131.000000</td>\n",
              "      <td>16131.000000</td>\n",
              "      <td>16131.000000</td>\n",
              "      <td>16131.000000</td>\n",
              "      <td>16131.000000</td>\n",
              "      <td>16131.000000</td>\n",
              "    </tr>\n",
              "    <tr>\n",
              "      <th>mean</th>\n",
              "      <td>-119.554302</td>\n",
              "      <td>35.646260</td>\n",
              "      <td>28.307978</td>\n",
              "      <td>2628.919410</td>\n",
              "      <td>541.699027</td>\n",
              "      <td>1447.042899</td>\n",
              "      <td>503.318827</td>\n",
              "      <td>3.678975</td>\n",
              "      <td>191.543965</td>\n",
              "    </tr>\n",
              "    <tr>\n",
              "      <th>std</th>\n",
              "      <td>2.007124</td>\n",
              "      <td>2.152274</td>\n",
              "      <td>12.499647</td>\n",
              "      <td>2182.753276</td>\n",
              "      <td>423.942582</td>\n",
              "      <td>1160.743329</td>\n",
              "      <td>386.699625</td>\n",
              "      <td>1.570449</td>\n",
              "      <td>96.537737</td>\n",
              "    </tr>\n",
              "    <tr>\n",
              "      <th>min</th>\n",
              "      <td>-124.350000</td>\n",
              "      <td>32.540000</td>\n",
              "      <td>1.000000</td>\n",
              "      <td>2.000000</td>\n",
              "      <td>2.000000</td>\n",
              "      <td>3.000000</td>\n",
              "      <td>2.000000</td>\n",
              "      <td>0.499900</td>\n",
              "      <td>14.999000</td>\n",
              "    </tr>\n",
              "    <tr>\n",
              "      <th>25%</th>\n",
              "      <td>-121.750000</td>\n",
              "      <td>33.930000</td>\n",
              "      <td>18.000000</td>\n",
              "      <td>1452.000000</td>\n",
              "      <td>298.000000</td>\n",
              "      <td>800.000000</td>\n",
              "      <td>283.000000</td>\n",
              "      <td>2.523400</td>\n",
              "      <td>116.300000</td>\n",
              "    </tr>\n",
              "    <tr>\n",
              "      <th>50%</th>\n",
              "      <td>-118.490000</td>\n",
              "      <td>34.260000</td>\n",
              "      <td>28.000000</td>\n",
              "      <td>2112.000000</td>\n",
              "      <td>436.000000</td>\n",
              "      <td>1181.000000</td>\n",
              "      <td>410.000000</td>\n",
              "      <td>3.454500</td>\n",
              "      <td>173.500000</td>\n",
              "    </tr>\n",
              "    <tr>\n",
              "      <th>75%</th>\n",
              "      <td>-117.990000</td>\n",
              "      <td>37.730000</td>\n",
              "      <td>37.000000</td>\n",
              "      <td>3126.000000</td>\n",
              "      <td>650.500000</td>\n",
              "      <td>1746.000000</td>\n",
              "      <td>607.000000</td>\n",
              "      <td>4.593800</td>\n",
              "      <td>247.200000</td>\n",
              "    </tr>\n",
              "    <tr>\n",
              "      <th>max</th>\n",
              "      <td>-114.310000</td>\n",
              "      <td>41.950000</td>\n",
              "      <td>52.000000</td>\n",
              "      <td>37937.000000</td>\n",
              "      <td>6445.000000</td>\n",
              "      <td>35682.000000</td>\n",
              "      <td>6082.000000</td>\n",
              "      <td>15.000100</td>\n",
              "      <td>489.600000</td>\n",
              "    </tr>\n",
              "  </tbody>\n",
              "</table>\n",
              "</div>"
            ],
            "text/plain": [
              "          longitude      latitude  housing_median_age   total_rooms  \\\n",
              "count  16131.000000  16131.000000        16131.000000  16131.000000   \n",
              "mean    -119.554302     35.646260           28.307978   2628.919410   \n",
              "std        2.007124      2.152274           12.499647   2182.753276   \n",
              "min     -124.350000     32.540000            1.000000      2.000000   \n",
              "25%     -121.750000     33.930000           18.000000   1452.000000   \n",
              "50%     -118.490000     34.260000           28.000000   2112.000000   \n",
              "75%     -117.990000     37.730000           37.000000   3126.000000   \n",
              "max     -114.310000     41.950000           52.000000  37937.000000   \n",
              "\n",
              "       total_bedrooms    population    households  median_income  \\\n",
              "count    16131.000000  16131.000000  16131.000000   16131.000000   \n",
              "mean       541.699027   1447.042899    503.318827       3.678975   \n",
              "std        423.942582   1160.743329    386.699625       1.570449   \n",
              "min          2.000000      3.000000      2.000000       0.499900   \n",
              "25%        298.000000    800.000000    283.000000       2.523400   \n",
              "50%        436.000000   1181.000000    410.000000       3.454500   \n",
              "75%        650.500000   1746.000000    607.000000       4.593800   \n",
              "max       6445.000000  35682.000000   6082.000000      15.000100   \n",
              "\n",
              "       median_house_value  \n",
              "count        16131.000000  \n",
              "mean           191.543965  \n",
              "std             96.537737  \n",
              "min             14.999000  \n",
              "25%            116.300000  \n",
              "50%            173.500000  \n",
              "75%            247.200000  \n",
              "max            489.600000  "
            ]
          },
          "metadata": {
            "tags": []
          },
          "execution_count": 30
        }
      ]
    },
    {
      "metadata": {
        "id": "A3puPpr6p2ea",
        "colab_type": "code",
        "colab": {
          "base_uri": "https://localhost:8080/",
          "height": 204
        },
        "outputId": "c023f914-ecd0-4878-96ee-c2fb556fd7fc"
      },
      "cell_type": "code",
      "source": [
        "california_housing_dataframe.head()"
      ],
      "execution_count": 31,
      "outputs": [
        {
          "output_type": "execute_result",
          "data": {
            "text/html": [
              "<div>\n",
              "<style scoped>\n",
              "    .dataframe tbody tr th:only-of-type {\n",
              "        vertical-align: middle;\n",
              "    }\n",
              "\n",
              "    .dataframe tbody tr th {\n",
              "        vertical-align: top;\n",
              "    }\n",
              "\n",
              "    .dataframe thead th {\n",
              "        text-align: right;\n",
              "    }\n",
              "</style>\n",
              "<table border=\"1\" class=\"dataframe\">\n",
              "  <thead>\n",
              "    <tr style=\"text-align: right;\">\n",
              "      <th></th>\n",
              "      <th>longitude</th>\n",
              "      <th>latitude</th>\n",
              "      <th>housing_median_age</th>\n",
              "      <th>total_rooms</th>\n",
              "      <th>total_bedrooms</th>\n",
              "      <th>population</th>\n",
              "      <th>households</th>\n",
              "      <th>median_income</th>\n",
              "      <th>median_house_value</th>\n",
              "    </tr>\n",
              "  </thead>\n",
              "  <tbody>\n",
              "    <tr>\n",
              "      <th>5712</th>\n",
              "      <td>-118.19</td>\n",
              "      <td>34.12</td>\n",
              "      <td>35.0</td>\n",
              "      <td>2524.0</td>\n",
              "      <td>749.0</td>\n",
              "      <td>2487.0</td>\n",
              "      <td>679.0</td>\n",
              "      <td>2.4932</td>\n",
              "      <td>167.7</td>\n",
              "    </tr>\n",
              "    <tr>\n",
              "      <th>16245</th>\n",
              "      <td>-122.48</td>\n",
              "      <td>37.64</td>\n",
              "      <td>7.0</td>\n",
              "      <td>120.0</td>\n",
              "      <td>21.0</td>\n",
              "      <td>50.0</td>\n",
              "      <td>27.0</td>\n",
              "      <td>12.5000</td>\n",
              "      <td>281.0</td>\n",
              "    </tr>\n",
              "    <tr>\n",
              "      <th>395</th>\n",
              "      <td>-116.94</td>\n",
              "      <td>32.84</td>\n",
              "      <td>32.0</td>\n",
              "      <td>1607.0</td>\n",
              "      <td>253.0</td>\n",
              "      <td>778.0</td>\n",
              "      <td>262.0</td>\n",
              "      <td>4.5278</td>\n",
              "      <td>166.3</td>\n",
              "    </tr>\n",
              "    <tr>\n",
              "      <th>3496</th>\n",
              "      <td>-117.90</td>\n",
              "      <td>33.92</td>\n",
              "      <td>27.0</td>\n",
              "      <td>698.0</td>\n",
              "      <td>116.0</td>\n",
              "      <td>391.0</td>\n",
              "      <td>126.0</td>\n",
              "      <td>5.9177</td>\n",
              "      <td>267.6</td>\n",
              "    </tr>\n",
              "    <tr>\n",
              "      <th>11500</th>\n",
              "      <td>-121.26</td>\n",
              "      <td>38.68</td>\n",
              "      <td>4.0</td>\n",
              "      <td>3080.0</td>\n",
              "      <td>827.0</td>\n",
              "      <td>1195.0</td>\n",
              "      <td>683.0</td>\n",
              "      <td>2.7477</td>\n",
              "      <td>133.0</td>\n",
              "    </tr>\n",
              "  </tbody>\n",
              "</table>\n",
              "</div>"
            ],
            "text/plain": [
              "       longitude  latitude  housing_median_age  total_rooms  total_bedrooms  \\\n",
              "5712     -118.19     34.12                35.0       2524.0           749.0   \n",
              "16245    -122.48     37.64                 7.0        120.0            21.0   \n",
              "395      -116.94     32.84                32.0       1607.0           253.0   \n",
              "3496     -117.90     33.92                27.0        698.0           116.0   \n",
              "11500    -121.26     38.68                 4.0       3080.0           827.0   \n",
              "\n",
              "       population  households  median_income  median_house_value  \n",
              "5712       2487.0       679.0         2.4932               167.7  \n",
              "16245        50.0        27.0        12.5000               281.0  \n",
              "395         778.0       262.0         4.5278               166.3  \n",
              "3496        391.0       126.0         5.9177               267.6  \n",
              "11500      1195.0       683.0         2.7477               133.0  "
            ]
          },
          "metadata": {
            "tags": []
          },
          "execution_count": 31
        }
      ]
    },
    {
      "metadata": {
        "id": "kN6ZgeOeX0Va",
        "colab_type": "code",
        "colab": {
          "base_uri": "https://localhost:8080/",
          "height": 153
        },
        "outputId": "3a9df796-a789-4480-dfd9-a3384474973f"
      },
      "cell_type": "code",
      "source": [
        "all_features = list(california_housing_dataframe)\n",
        "all_features.remove('median_house_value')\n",
        "all_features"
      ],
      "execution_count": 32,
      "outputs": [
        {
          "output_type": "execute_result",
          "data": {
            "text/plain": [
              "['longitude',\n",
              " 'latitude',\n",
              " 'housing_median_age',\n",
              " 'total_rooms',\n",
              " 'total_bedrooms',\n",
              " 'population',\n",
              " 'households',\n",
              " 'median_income']"
            ]
          },
          "metadata": {
            "tags": []
          },
          "execution_count": 32
        }
      ]
    },
    {
      "metadata": {
        "id": "PJnOhl5obMSm",
        "colab_type": "text"
      },
      "cell_type": "markdown",
      "source": [
        "Define function that takes in full data set and returns features data set, including synthetic features Ideas: scale population, clip rooms, occupancy, randomise order)"
      ]
    },
    {
      "metadata": {
        "id": "8o3wnblJsBTC",
        "colab_type": "code",
        "colab": {
          "base_uri": "https://localhost:8080/",
          "height": 272
        },
        "outputId": "63884045-9218-4179-b304-0619c24ac48e"
      },
      "cell_type": "code",
      "source": [
        "def train_test_splitter(dataframe, features, target):\n",
        "  X_dataframe = dataframe[features]\n",
        "  y_dataframe = dataframe[target]\n",
        "  X_train, X_test, y_train, y_test = train_test_split(X_dataframe, y_dataframe)\n",
        "  #scale all the features\n",
        "  scaler = RobustScaler().fit(X_train)\n",
        "  X_train_scaled = pd.DataFrame(scaler.transform(X_train), index=X_train.index.values, columns=X_train.columns.values)\n",
        "  X_test_scaled = pd.DataFrame(scaler.transform(X_test), index=X_test.index.values, columns=X_test.columns.values)\n",
        "  print(X_train_scaled.head())\n",
        "  #for column in X_train_scaled.columns.values:\n",
        "  #  X_train_scaled[column].hist()\n",
        "  return X_train_scaled, X_test_scaled, y_train, y_test\n",
        "  #return X_train, X_test, y_train, y_test\n",
        "\n",
        "def build_model(X_train, y_train, model):\n",
        "  model.fit(X_train, y_train)  \n",
        "  #print('model coefficient:', model.coef_)\n",
        "  return model\n",
        "\n",
        "def test_model(X_train, y_train, X_test, y_test, trained_model):\n",
        "  #check accuracy on fitted data\n",
        "  y_on_train = trained_model.predict(X_train)\n",
        "  rmse_train = math.sqrt(metrics.mean_squared_error(y_on_train, y_train))\n",
        "  #predict for unseen test data\n",
        "  y_pred = trained_model.predict(X_test)\n",
        "  rmse_test = math.sqrt(metrics.mean_squared_error(y_pred, y_test))\n",
        "  return y_pred, rmse_train, rmse_test\n",
        "  \n",
        "feature_list = ['housing_median_age', 'total_rooms', 'population']\n",
        "feature_list = all_features\n",
        "target = 'median_house_value'\n",
        "X_train, X_test, y_train, y_test = train_test_splitter(california_housing_dataframe, feature_list, target)\n",
        "trained_model = build_model(X_train, y_train, RandomForestRegressor(n_estimators=500, oob_score=True, random_state=0))\n",
        "y_pred, error_train, error_test = test_model(X_train, y_train, X_test, y_test, trained_model)\n",
        "print('root mean squared error on train data %.2f' % error_train)\n",
        "print('root mean squared error on test data %.2f' % error_test)"
      ],
      "execution_count": 34,
      "outputs": [
        {
          "output_type": "stream",
          "text": [
            "       longitude  latitude  housing_median_age  total_rooms  total_bedrooms  \\\n",
            "6742    0.050265 -0.086842            0.210526    -0.174803        0.144476   \n",
            "5023    0.097884 -0.134211           -0.210526    -0.297670       -0.348442   \n",
            "16700  -1.148148  1.071053           -0.157895     0.568334        0.373938   \n",
            "15804  -1.039683  0.915789            1.000000    -0.226443       -0.110482   \n",
            "2927    0.190476 -0.113158           -0.684211     0.579611        0.056657   \n",
            "\n",
            "       population  households  median_income  \n",
            "6742     0.555266    0.200000      -0.844806  \n",
            "5023    -0.615746   -0.295385       0.804171  \n",
            "16700    0.437435    0.430769       0.265201  \n",
            "15804   -0.004692   -0.292308      -0.082591  \n",
            "2927     0.082899    0.080000       1.464555  \n",
            "root mean squared error on train data 16.18\n",
            "root mean squared error on test data 42.13\n"
          ],
          "name": "stdout"
        }
      ]
    },
    {
      "metadata": {
        "id": "odlC-QLfHJOH",
        "colab_type": "code",
        "colab": {
          "base_uri": "https://localhost:8080/",
          "height": 68
        },
        "outputId": "dc118f2b-a8db-4f6c-d101-6e7bb3817f0c"
      },
      "cell_type": "code",
      "source": [
        "X_train.columns.values"
      ],
      "execution_count": 20,
      "outputs": [
        {
          "output_type": "execute_result",
          "data": {
            "text/plain": [
              "array(['longitude', 'latitude', 'housing_median_age', 'total_rooms',\n",
              "       'total_bedrooms', 'population', 'households', 'median_income'],\n",
              "      dtype=object)"
            ]
          },
          "metadata": {
            "tags": []
          },
          "execution_count": 20
        }
      ]
    },
    {
      "metadata": {
        "id": "YzfmEJEeEZUv",
        "colab_type": "code",
        "colab": {
          "base_uri": "https://localhost:8080/",
          "height": 34
        },
        "outputId": "0f700021-8b4b-4985-ac17-1dc97d22537d"
      },
      "cell_type": "code",
      "source": [
        "max(california_housing_dataframe['median_house_value'])-min(california_housing_dataframe['median_house_value'])"
      ],
      "execution_count": 16,
      "outputs": [
        {
          "output_type": "execute_result",
          "data": {
            "text/plain": [
              "474.601"
            ]
          },
          "metadata": {
            "tags": []
          },
          "execution_count": 16
        }
      ]
    },
    {
      "metadata": {
        "id": "ze2wVvuK0eCb",
        "colab_type": "code",
        "colab": {
          "base_uri": "https://localhost:8080/",
          "height": 1969
        },
        "outputId": "9ecbc142-4e6f-4c01-c1f8-7b40cae398b0"
      },
      "cell_type": "code",
      "source": [
        "y_compare = pd.DataFrame(y_test)\n",
        "y_pred_series = pd.Series(y_pred)\n",
        "y_compare['median_house_value_predictions'] = y_pred_series.values\n",
        "y_compare"
      ],
      "execution_count": 38,
      "outputs": [
        {
          "output_type": "execute_result",
          "data": {
            "text/html": [
              "<div>\n",
              "<style scoped>\n",
              "    .dataframe tbody tr th:only-of-type {\n",
              "        vertical-align: middle;\n",
              "    }\n",
              "\n",
              "    .dataframe tbody tr th {\n",
              "        vertical-align: top;\n",
              "    }\n",
              "\n",
              "    .dataframe thead th {\n",
              "        text-align: right;\n",
              "    }\n",
              "</style>\n",
              "<table border=\"1\" class=\"dataframe\">\n",
              "  <thead>\n",
              "    <tr style=\"text-align: right;\">\n",
              "      <th></th>\n",
              "      <th>median_house_value</th>\n",
              "      <th>median_house_value_predictions</th>\n",
              "    </tr>\n",
              "  </thead>\n",
              "  <tbody>\n",
              "    <tr>\n",
              "      <th>13620</th>\n",
              "      <td>307.4</td>\n",
              "      <td>280.533000</td>\n",
              "    </tr>\n",
              "    <tr>\n",
              "      <th>10679</th>\n",
              "      <td>61.8</td>\n",
              "      <td>93.556200</td>\n",
              "    </tr>\n",
              "    <tr>\n",
              "      <th>11870</th>\n",
              "      <td>320.2</td>\n",
              "      <td>336.519200</td>\n",
              "    </tr>\n",
              "    <tr>\n",
              "      <th>1140</th>\n",
              "      <td>150.0</td>\n",
              "      <td>129.378200</td>\n",
              "    </tr>\n",
              "    <tr>\n",
              "      <th>16611</th>\n",
              "      <td>140.6</td>\n",
              "      <td>148.880000</td>\n",
              "    </tr>\n",
              "    <tr>\n",
              "      <th>16124</th>\n",
              "      <td>344.2</td>\n",
              "      <td>333.573200</td>\n",
              "    </tr>\n",
              "    <tr>\n",
              "      <th>9283</th>\n",
              "      <td>121.0</td>\n",
              "      <td>108.184200</td>\n",
              "    </tr>\n",
              "    <tr>\n",
              "      <th>9326</th>\n",
              "      <td>172.4</td>\n",
              "      <td>215.752800</td>\n",
              "    </tr>\n",
              "    <tr>\n",
              "      <th>6662</th>\n",
              "      <td>175.0</td>\n",
              "      <td>206.586800</td>\n",
              "    </tr>\n",
              "    <tr>\n",
              "      <th>14150</th>\n",
              "      <td>203.8</td>\n",
              "      <td>182.041200</td>\n",
              "    </tr>\n",
              "    <tr>\n",
              "      <th>1826</th>\n",
              "      <td>87.5</td>\n",
              "      <td>69.892600</td>\n",
              "    </tr>\n",
              "    <tr>\n",
              "      <th>468</th>\n",
              "      <td>89.8</td>\n",
              "      <td>113.563000</td>\n",
              "    </tr>\n",
              "    <tr>\n",
              "      <th>12812</th>\n",
              "      <td>328.0</td>\n",
              "      <td>285.930800</td>\n",
              "    </tr>\n",
              "    <tr>\n",
              "      <th>13874</th>\n",
              "      <td>240.0</td>\n",
              "      <td>292.282200</td>\n",
              "    </tr>\n",
              "    <tr>\n",
              "      <th>240</th>\n",
              "      <td>248.1</td>\n",
              "      <td>105.282800</td>\n",
              "    </tr>\n",
              "    <tr>\n",
              "      <th>7231</th>\n",
              "      <td>255.4</td>\n",
              "      <td>342.122400</td>\n",
              "    </tr>\n",
              "    <tr>\n",
              "      <th>8440</th>\n",
              "      <td>195.3</td>\n",
              "      <td>236.286000</td>\n",
              "    </tr>\n",
              "    <tr>\n",
              "      <th>13485</th>\n",
              "      <td>143.5</td>\n",
              "      <td>149.891600</td>\n",
              "    </tr>\n",
              "    <tr>\n",
              "      <th>15046</th>\n",
              "      <td>241.4</td>\n",
              "      <td>249.275000</td>\n",
              "    </tr>\n",
              "    <tr>\n",
              "      <th>8597</th>\n",
              "      <td>203.9</td>\n",
              "      <td>212.164000</td>\n",
              "    </tr>\n",
              "    <tr>\n",
              "      <th>1050</th>\n",
              "      <td>149.0</td>\n",
              "      <td>105.469800</td>\n",
              "    </tr>\n",
              "    <tr>\n",
              "      <th>14635</th>\n",
              "      <td>101.6</td>\n",
              "      <td>90.835400</td>\n",
              "    </tr>\n",
              "    <tr>\n",
              "      <th>10674</th>\n",
              "      <td>346.1</td>\n",
              "      <td>243.440200</td>\n",
              "    </tr>\n",
              "    <tr>\n",
              "      <th>13710</th>\n",
              "      <td>192.3</td>\n",
              "      <td>205.029800</td>\n",
              "    </tr>\n",
              "    <tr>\n",
              "      <th>3026</th>\n",
              "      <td>206.1</td>\n",
              "      <td>208.132200</td>\n",
              "    </tr>\n",
              "    <tr>\n",
              "      <th>16356</th>\n",
              "      <td>317.8</td>\n",
              "      <td>337.846000</td>\n",
              "    </tr>\n",
              "    <tr>\n",
              "      <th>2059</th>\n",
              "      <td>67.0</td>\n",
              "      <td>71.218200</td>\n",
              "    </tr>\n",
              "    <tr>\n",
              "      <th>13973</th>\n",
              "      <td>231.4</td>\n",
              "      <td>268.767400</td>\n",
              "    </tr>\n",
              "    <tr>\n",
              "      <th>266</th>\n",
              "      <td>50.0</td>\n",
              "      <td>95.933000</td>\n",
              "    </tr>\n",
              "    <tr>\n",
              "      <th>2943</th>\n",
              "      <td>417.0</td>\n",
              "      <td>405.000200</td>\n",
              "    </tr>\n",
              "    <tr>\n",
              "      <th>...</th>\n",
              "      <td>...</td>\n",
              "      <td>...</td>\n",
              "    </tr>\n",
              "    <tr>\n",
              "      <th>14665</th>\n",
              "      <td>336.7</td>\n",
              "      <td>277.870000</td>\n",
              "    </tr>\n",
              "    <tr>\n",
              "      <th>8849</th>\n",
              "      <td>276.5</td>\n",
              "      <td>318.019800</td>\n",
              "    </tr>\n",
              "    <tr>\n",
              "      <th>332</th>\n",
              "      <td>81.0</td>\n",
              "      <td>108.003000</td>\n",
              "    </tr>\n",
              "    <tr>\n",
              "      <th>12219</th>\n",
              "      <td>65.8</td>\n",
              "      <td>66.181600</td>\n",
              "    </tr>\n",
              "    <tr>\n",
              "      <th>11620</th>\n",
              "      <td>132.5</td>\n",
              "      <td>127.161000</td>\n",
              "    </tr>\n",
              "    <tr>\n",
              "      <th>248</th>\n",
              "      <td>130.4</td>\n",
              "      <td>136.886000</td>\n",
              "    </tr>\n",
              "    <tr>\n",
              "      <th>14588</th>\n",
              "      <td>191.0</td>\n",
              "      <td>221.892400</td>\n",
              "    </tr>\n",
              "    <tr>\n",
              "      <th>7128</th>\n",
              "      <td>180.5</td>\n",
              "      <td>247.360600</td>\n",
              "    </tr>\n",
              "    <tr>\n",
              "      <th>15353</th>\n",
              "      <td>218.4</td>\n",
              "      <td>231.256800</td>\n",
              "    </tr>\n",
              "    <tr>\n",
              "      <th>666</th>\n",
              "      <td>89.3</td>\n",
              "      <td>149.108000</td>\n",
              "    </tr>\n",
              "    <tr>\n",
              "      <th>667</th>\n",
              "      <td>115.0</td>\n",
              "      <td>171.600800</td>\n",
              "    </tr>\n",
              "    <tr>\n",
              "      <th>9248</th>\n",
              "      <td>106.3</td>\n",
              "      <td>151.581600</td>\n",
              "    </tr>\n",
              "    <tr>\n",
              "      <th>11831</th>\n",
              "      <td>109.1</td>\n",
              "      <td>132.638400</td>\n",
              "    </tr>\n",
              "    <tr>\n",
              "      <th>5844</th>\n",
              "      <td>135.2</td>\n",
              "      <td>135.651600</td>\n",
              "    </tr>\n",
              "    <tr>\n",
              "      <th>14162</th>\n",
              "      <td>222.0</td>\n",
              "      <td>226.017000</td>\n",
              "    </tr>\n",
              "    <tr>\n",
              "      <th>12500</th>\n",
              "      <td>130.5</td>\n",
              "      <td>118.918000</td>\n",
              "    </tr>\n",
              "    <tr>\n",
              "      <th>5066</th>\n",
              "      <td>254.9</td>\n",
              "      <td>306.464000</td>\n",
              "    </tr>\n",
              "    <tr>\n",
              "      <th>1813</th>\n",
              "      <td>450.0</td>\n",
              "      <td>264.810200</td>\n",
              "    </tr>\n",
              "    <tr>\n",
              "      <th>3681</th>\n",
              "      <td>430.9</td>\n",
              "      <td>237.883400</td>\n",
              "    </tr>\n",
              "    <tr>\n",
              "      <th>2973</th>\n",
              "      <td>301.9</td>\n",
              "      <td>264.894400</td>\n",
              "    </tr>\n",
              "    <tr>\n",
              "      <th>8714</th>\n",
              "      <td>236.9</td>\n",
              "      <td>222.554600</td>\n",
              "    </tr>\n",
              "    <tr>\n",
              "      <th>7496</th>\n",
              "      <td>355.0</td>\n",
              "      <td>341.927200</td>\n",
              "    </tr>\n",
              "    <tr>\n",
              "      <th>594</th>\n",
              "      <td>126.9</td>\n",
              "      <td>132.183000</td>\n",
              "    </tr>\n",
              "    <tr>\n",
              "      <th>3743</th>\n",
              "      <td>186.3</td>\n",
              "      <td>189.102400</td>\n",
              "    </tr>\n",
              "    <tr>\n",
              "      <th>16041</th>\n",
              "      <td>281.3</td>\n",
              "      <td>294.333200</td>\n",
              "    </tr>\n",
              "    <tr>\n",
              "      <th>12799</th>\n",
              "      <td>116.7</td>\n",
              "      <td>87.158784</td>\n",
              "    </tr>\n",
              "    <tr>\n",
              "      <th>9978</th>\n",
              "      <td>113.6</td>\n",
              "      <td>119.519400</td>\n",
              "    </tr>\n",
              "    <tr>\n",
              "      <th>1923</th>\n",
              "      <td>162.2</td>\n",
              "      <td>165.934600</td>\n",
              "    </tr>\n",
              "    <tr>\n",
              "      <th>14314</th>\n",
              "      <td>228.2</td>\n",
              "      <td>205.401400</td>\n",
              "    </tr>\n",
              "    <tr>\n",
              "      <th>7871</th>\n",
              "      <td>384.7</td>\n",
              "      <td>318.757000</td>\n",
              "    </tr>\n",
              "  </tbody>\n",
              "</table>\n",
              "<p>4033 rows × 2 columns</p>\n",
              "</div>"
            ],
            "text/plain": [
              "       median_house_value  median_house_value_predictions\n",
              "13620               307.4                      280.533000\n",
              "10679                61.8                       93.556200\n",
              "11870               320.2                      336.519200\n",
              "1140                150.0                      129.378200\n",
              "16611               140.6                      148.880000\n",
              "16124               344.2                      333.573200\n",
              "9283                121.0                      108.184200\n",
              "9326                172.4                      215.752800\n",
              "6662                175.0                      206.586800\n",
              "14150               203.8                      182.041200\n",
              "1826                 87.5                       69.892600\n",
              "468                  89.8                      113.563000\n",
              "12812               328.0                      285.930800\n",
              "13874               240.0                      292.282200\n",
              "240                 248.1                      105.282800\n",
              "7231                255.4                      342.122400\n",
              "8440                195.3                      236.286000\n",
              "13485               143.5                      149.891600\n",
              "15046               241.4                      249.275000\n",
              "8597                203.9                      212.164000\n",
              "1050                149.0                      105.469800\n",
              "14635               101.6                       90.835400\n",
              "10674               346.1                      243.440200\n",
              "13710               192.3                      205.029800\n",
              "3026                206.1                      208.132200\n",
              "16356               317.8                      337.846000\n",
              "2059                 67.0                       71.218200\n",
              "13973               231.4                      268.767400\n",
              "266                  50.0                       95.933000\n",
              "2943                417.0                      405.000200\n",
              "...                   ...                             ...\n",
              "14665               336.7                      277.870000\n",
              "8849                276.5                      318.019800\n",
              "332                  81.0                      108.003000\n",
              "12219                65.8                       66.181600\n",
              "11620               132.5                      127.161000\n",
              "248                 130.4                      136.886000\n",
              "14588               191.0                      221.892400\n",
              "7128                180.5                      247.360600\n",
              "15353               218.4                      231.256800\n",
              "666                  89.3                      149.108000\n",
              "667                 115.0                      171.600800\n",
              "9248                106.3                      151.581600\n",
              "11831               109.1                      132.638400\n",
              "5844                135.2                      135.651600\n",
              "14162               222.0                      226.017000\n",
              "12500               130.5                      118.918000\n",
              "5066                254.9                      306.464000\n",
              "1813                450.0                      264.810200\n",
              "3681                430.9                      237.883400\n",
              "2973                301.9                      264.894400\n",
              "8714                236.9                      222.554600\n",
              "7496                355.0                      341.927200\n",
              "594                 126.9                      132.183000\n",
              "3743                186.3                      189.102400\n",
              "16041               281.3                      294.333200\n",
              "12799               116.7                       87.158784\n",
              "9978                113.6                      119.519400\n",
              "1923                162.2                      165.934600\n",
              "14314               228.2                      205.401400\n",
              "7871                384.7                      318.757000\n",
              "\n",
              "[4033 rows x 2 columns]"
            ]
          },
          "metadata": {
            "tags": []
          },
          "execution_count": 38
        }
      ]
    },
    {
      "metadata": {
        "id": "Lh63VTTz2X_f",
        "colab_type": "code",
        "colab": {
          "base_uri": "https://localhost:8080/",
          "height": 364
        },
        "outputId": "ce12d11d-419c-4684-87ff-6f2f230dc878"
      },
      "cell_type": "code",
      "source": [
        "plt.scatter(y_test, y_pred, color='blue', linewidth=3)"
      ],
      "execution_count": 36,
      "outputs": [
        {
          "output_type": "execute_result",
          "data": {
            "text/plain": [
              "<matplotlib.collections.PathCollection at 0x7fa447f20908>"
            ]
          },
          "metadata": {
            "tags": []
          },
          "execution_count": 36
        },
        {
          "output_type": "display_data",
          "data": {
            "image/png": "[encoded data removed]",
            "text/plain": [
              "<matplotlib.figure.Figure at 0x7fa447f9a7f0>"
            ]
          },
          "metadata": {
            "tags": []
          }
        }
      ]
    },
    {
      "metadata": {
        "id": "Jc5SsCkNv_jf",
        "colab_type": "code",
        "colab": {
          "base_uri": "https://localhost:8080/",
          "height": 561
        },
        "outputId": "0c257065-208a-4bdd-a467-80b8f4067cc1"
      },
      "cell_type": "code",
      "source": [
        "for feature in all_features:\n",
        "  target = 'median_house_value'\n",
        "  X_train, X_test, y_train, y_test = train_test_splitter(california_housing_dataframe, [feature], target)\n",
        "  trained_model = build_model(X_train, y_train, LinearRegression())\n",
        "  y_pred, error_train, error_test = test_model(X_train, y_train, X_test, y_test, trained_model)\n",
        "  print(feature)\n",
        "  print('root mean squared error on train data %.2f' % error_train)\n",
        "  print('root mean squared error on test data %.2f' % error_test)"
      ],
      "execution_count": 15,
      "outputs": [
        {
          "output_type": "stream",
          "text": [
            "model coefficient: [-2.40231574]\n",
            "longitude\n",
            "root mean squared error on train data 116.38\n",
            "root mean squared error on test data 114.31\n",
            "model coefficient: [-7.68167913]\n",
            "latitude\n",
            "root mean squared error on train data 115.14\n",
            "root mean squared error on test data 113.60\n",
            "model coefficient: [1.03277208]\n",
            "housing_median_age\n",
            "root mean squared error on train data 114.86\n",
            "root mean squared error on test data 116.69\n",
            "model coefficient: [0.00708305]\n",
            "total_rooms\n",
            "root mean squared error on train data 114.37\n",
            "root mean squared error on test data 116.81\n",
            "model coefficient: [0.01213551]\n",
            "total_bedrooms\n",
            "root mean squared error on train data 115.80\n",
            "root mean squared error on test data 116.05\n",
            "model coefficient: [-0.00259605]\n",
            "population\n",
            "root mean squared error on train data 115.53\n",
            "root mean squared error on test data 117.14\n",
            "model coefficient: [0.01763977]\n",
            "households\n",
            "root mean squared error on train data 116.29\n",
            "root mean squared error on test data 114.18\n",
            "model coefficient: [42.02747956]\n",
            "median_income\n",
            "root mean squared error on train data 83.39\n",
            "root mean squared error on test data 84.80\n"
          ],
          "name": "stdout"
        }
      ]
    },
    {
      "metadata": {
        "id": "RvBwWwNnt3zS",
        "colab_type": "code",
        "colab": {
          "base_uri": "https://localhost:8080/",
          "height": 71
        },
        "outputId": "5a633342-25ed-4d88-f149-8cb87b04f2ea"
      },
      "cell_type": "code",
      "source": [
        "#use linear regression as the model\n",
        "X_full = california_housing_dataframe.drop('median_house_value', axis = 1)\n",
        "y_full = california_housing_dataframe['median_house_value']\n",
        "lr = LinearRegression()\n",
        "#rank all features, i.e continue the elimination until the last one\n",
        "rfe = RFE(lr, n_features_to_select=1)\n",
        "rfe.fit(X_full, y_full)\n",
        " \n",
        "print(\"Features sorted by their rank:\")\n",
        "print(sorted(zip(map(lambda x: round(x, 4), rfe.ranking_), all_features)))"
      ],
      "execution_count": 9,
      "outputs": [
        {
          "output_type": "stream",
          "text": [
            "Features sorted by their rank:\n",
            "[(1, 'longitude'), (2, 'latitude'), (3, 'median_income'), (4, 'housing_median_age'), (5, 'total_bedrooms'), (6, 'households'), (7, 'population'), (8, 'total_rooms')]\n"
          ],
          "name": "stdout"
        }
      ]
    },
    {
      "metadata": {
        "id": "yUqc5XSA3zv0",
        "colab_type": "code",
        "colab": {}
      },
      "cell_type": "code",
      "source": [
        ""
      ],
      "execution_count": 0,
      "outputs": []
    },
    {
      "metadata": {
        "id": "BRkmJ_zxa88S",
        "colab_type": "text"
      },
      "cell_type": "markdown",
      "source": [
        "Predict with created model"
      ]
    },
    {
      "metadata": {
        "id": "wAHJDiZ0a8Gz",
        "colab_type": "code",
        "colab": {
          "base_uri": "https://localhost:8080/",
          "height": 85
        },
        "outputId": "0f37b3c3-4fdd-4bc0-c2fb-cf2b8af9628d"
      },
      "cell_type": "code",
      "source": [
        "y_from_train = model.predict(X_train)\n",
        "print('mean squared error on train data %f' % metrics.mean_squared_error(y_train, y_from_train))\n",
        "print('root mean squared error on train data %f' % math.sqrt(metrics.mean_squared_error(y_train, y_from_train)))\n",
        "\n",
        "y_predict = model.predict(X_test)\n",
        "print('mean squared error on test data : %f' % metrics.mean_squared_error(y_predict, y_test))\n",
        "print('root mean squared error on test data : %f' % math.sqrt(metrics.mean_squared_error(y_predict, y_test)))"
      ],
      "execution_count": 58,
      "outputs": [
        {
          "output_type": "stream",
          "text": [
            "mean squared error on train data 13138.342613\n",
            "root mean squared error on train data 114.622610\n",
            "mean squared error on test data : 13470.294258\n",
            "root mean squared error on test data : 116.061597\n"
          ],
          "name": "stdout"
        }
      ]
    },
    {
      "metadata": {
        "id": "pT9Llp7od7kC",
        "colab_type": "code",
        "colab": {
          "base_uri": "https://localhost:8080/",
          "height": 51
        },
        "outputId": "b9aab476-ab0a-4ea3-e982-418b851a6de2"
      },
      "cell_type": "code",
      "source": [
        "model.coef_"
      ],
      "execution_count": 51,
      "outputs": [
        {
          "output_type": "execute_result",
          "data": {
            "text/plain": [
              "array([-4.30553965e+01, -4.29244508e+01,  1.13036256e+00, -8.15535401e-03,\n",
              "        1.19318069e-01, -3.57601492e-02,  3.61132685e-02,  4.00328551e+01])"
            ]
          },
          "metadata": {
            "tags": []
          },
          "execution_count": 51
        }
      ]
    },
    {
      "metadata": {
        "id": "HpsadPHAedd8",
        "colab_type": "code",
        "colab": {
          "base_uri": "https://localhost:8080/",
          "height": 34
        },
        "outputId": "e668af28-8091-41b6-a5ee-3b641b95b3ff"
      },
      "cell_type": "code",
      "source": [
        "X_test.shape"
      ],
      "execution_count": 53,
      "outputs": [
        {
          "output_type": "execute_result",
          "data": {
            "text/plain": [
              "(4250, 8)"
            ]
          },
          "metadata": {
            "tags": []
          },
          "execution_count": 53
        }
      ]
    },
    {
      "metadata": {
        "id": "DqIvJIu4r1i1",
        "colab_type": "code",
        "colab": {
          "base_uri": "https://localhost:8080/",
          "height": 364
        },
        "outputId": "7bfc9384-a583-4b05-e8c7-6e873dcdd9e9"
      },
      "cell_type": "code",
      "source": [
        "#plt.scatter(X_test, y_test,  color='black')\n",
        "plt.scatter(y_test, y_predict, color='blue', linewidth=3)"
      ],
      "execution_count": 55,
      "outputs": [
        {
          "output_type": "execute_result",
          "data": {
            "text/plain": [
              "<matplotlib.collections.PathCollection at 0x7f4b1f00c8d0>"
            ]
          },
          "metadata": {
            "tags": []
          },
          "execution_count": 55
        },
        {
          "output_type": "display_data",
          "data": {
            "image/png": "[encoded data removed]",
            "text/plain": [
              "<matplotlib.figure.Figure at 0x7f4b1f0beb00>"
            ]
          },
          "metadata": {
            "tags": []
          }
        }
      ]
    },
    {
      "metadata": {
        "id": "Id2Hp4Wcvewf",
        "colab_type": "code",
        "colab": {
          "base_uri": "https://localhost:8080/",
          "height": 51
        },
        "outputId": "56c02f8d-dbbe-49bb-aa4f-10c1f5bfc547"
      },
      "cell_type": "code",
      "source": [
        "y_predictions = model.predict(X_data)\n",
        "mean_squared_error = metrics.mean_squared_error(y_predictions, y_data)\n",
        "root_mean_squared_error = math.sqrt(mean_squared_error)\n",
        "print(\"Mean Squared Error (on training data): %0.3f\" % mean_squared_error)\n",
        "print(\"Root Mean Squared Error (on training data): %0.3f\" % root_mean_squared_error)"
      ],
      "execution_count": 24,
      "outputs": [
        {
          "output_type": "stream",
          "text": [
            "Mean Squared Error (on training data): 13441.009\n",
            "Root Mean Squared Error (on training data): 115.935\n"
          ],
          "name": "stdout"
        }
      ]
    },
    {
      "metadata": {
        "id": "kc3MJZ6UxwUI",
        "colab_type": "code",
        "colab": {
          "base_uri": "https://localhost:8080/",
          "height": 85
        },
        "outputId": "eba8a82d-0bb5-4e27-923a-11f46e746e0a"
      },
      "cell_type": "code",
      "source": [
        "min_house_value = california_housing_dataframe[\"median_house_value\"].min()\n",
        "max_house_value = california_housing_dataframe[\"median_house_value\"].max()\n",
        "min_max_difference = max_house_value - min_house_value\n",
        "\n",
        "print(\"Min. Median House Value: %0.3f\" % min_house_value)\n",
        "print(\"Max. Median House Value: %0.3f\" % max_house_value)\n",
        "print(\"Difference between Min. and Max.: %0.3f\" % min_max_difference)\n",
        "print(\"Root Mean Squared Error: %0.3f\" % root_mean_squared_error)"
      ],
      "execution_count": 25,
      "outputs": [
        {
          "output_type": "stream",
          "text": [
            "Min. Median House Value: 14.999\n",
            "Max. Median House Value: 500.001\n",
            "Difference between Min. and Max.: 485.002\n",
            "Root Mean Squared Error: 115.935\n"
          ],
          "name": "stdout"
        }
      ]
    },
    {
      "metadata": {
        "id": "RR4yn4MT-2RB",
        "colab_type": "code",
        "colab": {
          "base_uri": "https://localhost:8080/",
          "height": 34
        },
        "outputId": "6af07166-6860-4932-ae78-bce25a0fd3c7"
      },
      "cell_type": "code",
      "source": [
        "X_data.head()\n",
        "X_data.shape"
      ],
      "execution_count": 26,
      "outputs": [
        {
          "output_type": "execute_result",
          "data": {
            "text/plain": [
              "(17000, 1)"
            ]
          },
          "metadata": {
            "tags": []
          },
          "execution_count": 26
        }
      ]
    },
    {
      "metadata": {
        "id": "3NzI1DqxzFWj",
        "colab_type": "code",
        "colab": {}
      },
      "cell_type": "code",
      "source": [
        "sample_data = california_housing_dataframe.sample(n = 300)\n",
        "sample_X = sample_data[['population']]\n",
        "sample_y = sample_data['median_house_value']\n",
        "\n",
        "sample_X.shape\n",
        "y_predict = model.predict(sample_X)\n",
        "\n",
        "\n",
        "#plt.scatter(sample_X, sample_y)\n",
        "#plt.plot([sample_X.min(), y_0], [sample_X.max(), y_1], c = 'r')"
      ],
      "execution_count": 0,
      "outputs": []
    },
    {
      "metadata": {
        "id": "GsncS7harO8y",
        "colab_type": "code",
        "colab": {
          "base_uri": "https://localhost:8080/",
          "height": 51
        },
        "outputId": "cf7ba896-e75e-4051-fa70-3a3db6e11484"
      },
      "cell_type": "code",
      "source": [
        "print(model.coef_)\n",
        "print(model.intercept_)"
      ],
      "execution_count": 28,
      "outputs": [
        {
          "output_type": "stream",
          "text": [
            "[-0.00281408]\n",
            "211.32385385695704\n"
          ],
          "name": "stdout"
        }
      ]
    },
    {
      "metadata": {
        "id": "_gMjtxek8Nq1",
        "colab_type": "code",
        "colab": {
          "base_uri": "https://localhost:8080/",
          "height": 364
        },
        "outputId": "e924a494-4232-41bb-aaac-98de6feb730a"
      },
      "cell_type": "code",
      "source": [
        "x_0 = sample_data[\"population\"].min()\n",
        "x_1 = sample_data[\"population\"].max()\n",
        "\n",
        "x_test = np.linspace(x_0, x_1, 100)\n",
        "y_test = [model.coef_*x + model.intercept_ for x in x_test]\n",
        "plt.scatter(sample_data['population'], sample_data['median_house_value'])\n",
        "plt.plot(x_test, y_test)\n"
      ],
      "execution_count": 29,
      "outputs": [
        {
          "output_type": "execute_result",
          "data": {
            "text/plain": [
              "[<matplotlib.lines.Line2D at 0x7f4b24c74278>]"
            ]
          },
          "metadata": {
            "tags": []
          },
          "execution_count": 29
        },
        {
          "output_type": "display_data",
          "data": {
            "image/png": "[encoded data removed]",
            "text/plain": [
              "<matplotlib.figure.Figure at 0x7f4b24902dd8>"
            ]
          },
          "metadata": {
            "tags": []
          }
        }
      ]
    },
    {
      "metadata": {
        "id": "KFnT4-h7rz_p",
        "colab_type": "code",
        "colab": {
          "base_uri": "https://localhost:8080/",
          "height": 378
        },
        "outputId": "3f226a18-46f1-4104-8214-56e1ce1497d0"
      },
      "cell_type": "code",
      "source": [
        "california_housing_dataframe.plot.scatter(x = 'population', y = 'median_house_value')"
      ],
      "execution_count": 40,
      "outputs": [
        {
          "output_type": "execute_result",
          "data": {
            "text/plain": [
              "<matplotlib.axes._subplots.AxesSubplot at 0x7f4b221dc4a8>"
            ]
          },
          "metadata": {
            "tags": []
          },
          "execution_count": 40
        },
        {
          "output_type": "display_data",
          "data": {
            "image/png": "[encoded data removed]",
            "text/plain": [
              "<matplotlib.figure.Figure at 0x7f4b220b5b38>"
            ]
          },
          "metadata": {
            "tags": []
          }
        }
      ]
    },
    {
      "metadata": {
        "id": "sw6drQeFbjp4",
        "colab_type": "text"
      },
      "cell_type": "markdown",
      "source": [
        "The objective now is to try and improve R2 value for the model. Modify previous functions to achieve this"
      ]
    },
    {
      "metadata": {
        "id": "X-1vzA1Gb1rn",
        "colab_type": "text"
      },
      "cell_type": "markdown",
      "source": [
        ""
      ]
    }
  ]
}